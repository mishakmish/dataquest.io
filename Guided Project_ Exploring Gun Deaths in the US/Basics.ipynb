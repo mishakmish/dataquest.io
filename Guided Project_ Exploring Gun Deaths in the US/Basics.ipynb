{
 "cells": [
  {
   "cell_type": "code",
   "execution_count": 1,
   "metadata": {
    "collapsed": false
   },
   "outputs": [
    {
     "name": "stdout",
     "output_type": "stream",
     "text": [
      "[['', 'year', 'month', 'intent', 'police', 'sex', 'age', 'race', 'hispanic', 'place', 'education']]\n",
      "[['1', '2012', '01', 'Suicide', '0', 'M', '34', 'Asian/Pacific Islander', '100', 'Home', '4'], ['2', '2012', '01', 'Suicide', '0', 'F', '21', 'White', '100', 'Street', '3'], ['3', '2012', '01', 'Suicide', '0', 'M', '60', 'White', '100', 'Other specified', '4'], ['4', '2012', '02', 'Suicide', '0', 'M', '64', 'White', '100', 'Home', '4'], ['5', '2012', '02', 'Suicide', '0', 'M', '31', 'White', '100', 'Other specified', '2']]\n"
     ]
    }
   ],
   "source": [
    "import csv\n",
    "import datetime\n",
    "\n",
    "f = open(\"guns.csv\", \"r\")\n",
    "data = list(csv.reader(f))\n",
    "\n",
    "headers = data[:1]\n",
    "data = data[1:]\n",
    "\n",
    "print(headers)\n",
    "\n",
    "print(data[:5])\n"
   ]
  },
  {
   "cell_type": "code",
   "execution_count": 2,
   "metadata": {
    "collapsed": false,
    "scrolled": false
   },
   "outputs": [
    {
     "name": "stdout",
     "output_type": "stream",
     "text": [
      "{'2012': 33562, '2014': 33598, '2013': 33635}\n"
     ]
    }
   ],
   "source": [
    "year_counts = {}\n",
    "years = [row[1] for row in data]\n",
    "\n",
    "for item in years:\n",
    "    if item not in year_counts:\n",
    "        year_counts[item] = 0\n",
    "    else:\n",
    "        year_counts[item] = year_counts[item] + 1\n",
    "    \n",
    "#[row[1] for row in alist]\n",
    "print(year_counts)\n",
    "\n",
    "\n",
    "\n",
    "#for item in years:\n",
    "#     print(item)"
   ]
  },
  {
   "cell_type": "code",
   "execution_count": 3,
   "metadata": {
    "collapsed": false
   },
   "outputs": [],
   "source": [
    "dates = []\n",
    "\n",
    "for item in data:\n",
    "    dates.append(datetime.datetime(year = int(item[1]), month = int(item[2]), day = 1))\n",
    "    \n"
   ]
  },
  {
   "cell_type": "code",
   "execution_count": 4,
   "metadata": {
    "collapsed": false
   },
   "outputs": [
    {
     "name": "stdout",
     "output_type": "stream",
     "text": [
      "2013-10 2807\n",
      "2014-08 2969\n",
      "2014-07 2883\n",
      "2013-09 2741\n",
      "2012-10 2732\n",
      "2014-04 2861\n",
      "2012-07 3025\n",
      "2012-05 2998\n",
      "2014-01 2650\n",
      "2014-06 2930\n",
      "2013-12 2764\n",
      "2013-11 2757\n",
      "2014-09 2913\n",
      "2012-08 2953\n",
      "2014-02 2360\n",
      "2012-06 2825\n",
      "2013-01 2863\n",
      "2013-02 2374\n",
      "2013-04 2797\n",
      "2012-11 2728\n",
      "2013-07 3078\n",
      "2013-05 2805\n",
      "2012-01 2757\n",
      "2012-02 2356\n",
      "2012-09 2851\n",
      "2013-08 2858\n",
      "2014-11 2755\n",
      "2013-06 2919\n",
      "2014-03 2683\n",
      "2014-12 2856\n",
      "2013-03 2861\n",
      "2014-10 2864\n",
      "2012-03 2742\n",
      "2014-05 2863\n",
      "2012-04 2794\n",
      "2012-12 2790\n"
     ]
    }
   ],
   "source": [
    "date_counts = {}\n",
    "\n",
    "for item in dates:\n",
    "    if item not in date_counts:\n",
    "        date_counts[item] = 0\n",
    "    else:\n",
    "        date_counts[item] = date_counts[item] + 1\n",
    "    \n",
    "for item in date_counts:\n",
    "    print(item.strftime(\"%Y-%m\"), date_counts[item])"
   ]
  },
  {
   "cell_type": "code",
   "execution_count": 5,
   "metadata": {
    "collapsed": false
   },
   "outputs": [],
   "source": [
    "sex_counts = {}\n",
    "race_counts = {}\n",
    "\n",
    "for item in [row[5] for row in data]:\n",
    "    if item not in sex_counts:\n",
    "        sex_counts[item] = 1\n",
    "    else:\n",
    "        sex_counts[item] = sex_counts[item] + 1\n",
    "\n",
    "for item in [row[7] for row in data]:\n",
    "    if item not in race_counts:\n",
    "        race_counts[item] = 1\n",
    "    else:\n",
    "        race_counts[item] = race_counts[item] + 1"
   ]
  },
  {
   "cell_type": "code",
   "execution_count": 6,
   "metadata": {
    "collapsed": false
   },
   "outputs": [
    {
     "name": "stdout",
     "output_type": "stream",
     "text": [
      "F 14449\n",
      "M 86349\n"
     ]
    }
   ],
   "source": [
    "for item in sex_counts:\n",
    "    print(item, sex_counts[item])"
   ]
  },
  {
   "cell_type": "markdown",
   "metadata": {},
   "source": [
    "Ну мужики явно больше склонны к суициду"
   ]
  },
  {
   "cell_type": "code",
   "execution_count": 7,
   "metadata": {
    "collapsed": false
   },
   "outputs": [
    {
     "name": "stdout",
     "output_type": "stream",
     "text": [
      "Native American/Native Alaskan 917\n",
      "Black 23296\n",
      "Hispanic 9022\n",
      "Asian/Pacific Islander 1326\n",
      "White 66237\n"
     ]
    }
   ],
   "source": [
    "for item in race_counts:\n",
    "    print(item, race_counts[item])"
   ]
  },
  {
   "cell_type": "markdown",
   "metadata": {},
   "source": [
    "Чем больше белых самоубийц, тем меньше белых самоубийц"
   ]
  },
  {
   "cell_type": "code",
   "execution_count": 8,
   "metadata": {
    "collapsed": false
   },
   "outputs": [
    {
     "name": "stdout",
     "output_type": "stream",
     "text": [
      "Race Alone - White :  197318956\n",
      "Race Alone - Hispanic :  44618105\n",
      "Race Alone - Black or African American :  40250635\n",
      "Race Alone - American Indian and Alaska Native :  3739506\n",
      "Race Alone - Asian :  15159516\n",
      "Race Alone - Native Hawaiian and Other Pacific Islander :  674625\n",
      "Two or More Races :  6984195\n"
     ]
    },
    {
     "ename": "IndexError",
     "evalue": "list index out of range",
     "output_type": "error",
     "traceback": [
      "\u001b[1;31m\u001b[0m",
      "\u001b[1;31mIndexError\u001b[0mTraceback (most recent call last)",
      "\u001b[1;32m<ipython-input-8-c8a096c1d037>\u001b[0m in \u001b[0;36m<module>\u001b[1;34m()\u001b[0m\n\u001b[0;32m      5\u001b[0m \u001b[1;33m\u001b[0m\u001b[0m\n\u001b[0;32m      6\u001b[0m \u001b[1;32mfor\u001b[0m \u001b[0mindex\u001b[0m\u001b[1;33m,\u001b[0m \u001b[0mvalue\u001b[0m \u001b[1;32min\u001b[0m \u001b[0menumerate\u001b[0m\u001b[1;33m(\u001b[0m\u001b[0mheader\u001b[0m\u001b[1;33m,\u001b[0m \u001b[0mstart\u001b[0m \u001b[1;33m=\u001b[0m \u001b[1;36m10\u001b[0m\u001b[1;33m)\u001b[0m\u001b[1;33m:\u001b[0m\u001b[1;33m\u001b[0m\u001b[0m\n\u001b[1;32m----> 7\u001b[1;33m     \u001b[0mprint\u001b[0m\u001b[1;33m(\u001b[0m\u001b[0mheader\u001b[0m\u001b[1;33m[\u001b[0m\u001b[0mindex\u001b[0m\u001b[1;33m]\u001b[0m\u001b[1;33m,\u001b[0m \u001b[1;34m\": \"\u001b[0m\u001b[1;33m,\u001b[0m \u001b[0mcensus\u001b[0m\u001b[1;33m[\u001b[0m\u001b[0mindex\u001b[0m\u001b[1;33m]\u001b[0m\u001b[1;33m)\u001b[0m\u001b[1;33m\u001b[0m\u001b[0m\n\u001b[0m",
      "\u001b[1;31mIndexError\u001b[0m: list index out of range"
     ]
    }
   ],
   "source": [
    "f = open(\"census.csv\", \"r\")\n",
    "census = list(csv.reader(f))\n",
    "header = census[0]\n",
    "census = census[1]\n",
    "\n",
    "for index, value in enumerate(header, start = 10):\n",
    "    print(header[index], \": \", census[index])"
   ]
  },
  {
   "cell_type": "code",
   "execution_count": 9,
   "metadata": {
    "collapsed": true
   },
   "outputs": [],
   "source": [
    "mapping = {\n",
    "    \"Asian/Pacific Islander\": 15834141,\n",
    "    \"Black\": 40250635,\n",
    "    \"Native American/Native Alaskan\": 3739506,\n",
    "    \"Hispanic\": 44618105,\n",
    "    \"White\": 197318956\n",
    "}\n",
    "\n",
    "\n",
    "\n"
   ]
  },
  {
   "cell_type": "code",
   "execution_count": 11,
   "metadata": {
    "collapsed": false
   },
   "outputs": [
    {
     "data": {
      "text/plain": [
       "{'Asian/Pacific Islander': 15834141,\n",
       " 'Black': 40250635,\n",
       " 'Hispanic': 44618105,\n",
       " 'Native American/Native Alaskan': 3739506,\n",
       " 'White': 197318956}"
      ]
     },
     "execution_count": 11,
     "metadata": {},
     "output_type": "execute_result"
    }
   ],
   "source": [
    "mapping"
   ]
  },
  {
   "cell_type": "code",
   "execution_count": 13,
   "metadata": {
    "collapsed": false
   },
   "outputs": [],
   "source": [
    "race_per_hundredk = {}\n",
    "\n",
    "for item in race_counts:\n",
    "    race_per_hundredk[item] = race_counts[item] * 10000\n",
    "    \n",
    "    "
   ]
  },
  {
   "cell_type": "code",
   "execution_count": 14,
   "metadata": {
    "collapsed": false
   },
   "outputs": [
    {
     "data": {
      "text/plain": [
       "{'Asian/Pacific Islander': 13260000,\n",
       " 'Black': 232960000,\n",
       " 'Hispanic': 90220000,\n",
       " 'Native American/Native Alaskan': 9170000,\n",
       " 'White': 662370000}"
      ]
     },
     "execution_count": 14,
     "metadata": {},
     "output_type": "execute_result"
    }
   ],
   "source": [
    "race_per_hundredk"
   ]
  },
  {
   "cell_type": "code",
   "execution_count": 16,
   "metadata": {
    "collapsed": false
   },
   "outputs": [
    {
     "name": "stdout",
     "output_type": "stream",
     "text": [
      "{'Native American/Native Alaskan': 8.717729026240365, 'Black': 48.471284987180944, 'Hispanic': 12.627161104219914, 'Asian/Pacific Islander': 3.530346230970155, 'White': 4.6356417981453335}\n"
     ]
    }
   ],
   "source": [
    "intents = [intent[3] for intent in data]\n",
    "races = [race[7] for race in data]\n",
    "\n",
    "homicide_race_counts = {}\n",
    "\n",
    "for index, race in enumerate(races):\n",
    "\n",
    "    if intents[index] == 'Homicide':\n",
    "        if race not in homicide_race_counts:\n",
    "            homicide_race_counts[race] = 1\n",
    "        else:\n",
    "            homicide_race_counts[race] += 1\n",
    "#print(homicide_race_counts)\n",
    "\n",
    "for key_race, key_mapping in zip(homicide_race_counts.items(),mapping.items()):\n",
    "    #print(key_race[0])\n",
    "    num = 100000 * (key_race[1]/key_mapping[1])\n",
    "    homicide_race_counts[key_race[0]] = num\n",
    "\n",
    "print(homicide_race_counts)"
   ]
  },
  {
   "cell_type": "code",
   "execution_count": 17,
   "metadata": {
    "collapsed": false
   },
   "outputs": [
    {
     "name": "stdout",
     "output_type": "stream",
     "text": [
      "Native American/Native Alaskan :  8.717729026240365\n",
      "Black :  48.471284987180944\n",
      "Hispanic :  12.627161104219914\n",
      "Asian/Pacific Islander :  3.530346230970155\n",
      "White :  4.6356417981453335\n"
     ]
    }
   ],
   "source": [
    "for index, value in enumerate(homicide_race_counts):\n",
    "    print(value, \": \", homicide_race_counts[value])"
   ]
  },
  {
   "cell_type": "code",
   "execution_count": null,
   "metadata": {
    "collapsed": true
   },
   "outputs": [],
   "source": []
  }
 ],
 "metadata": {
  "kernelspec": {
   "display_name": "Python 3",
   "language": "python",
   "name": "python3"
  },
  "language_info": {
   "codemirror_mode": {
    "name": "ipython",
    "version": 3
   },
   "file_extension": ".py",
   "mimetype": "text/x-python",
   "name": "python",
   "nbconvert_exporter": "python",
   "pygments_lexer": "ipython3",
   "version": "3.4.3"
  }
 },
 "nbformat": 4,
 "nbformat_minor": 0
}
